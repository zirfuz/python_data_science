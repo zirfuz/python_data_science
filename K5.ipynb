{
 "cells": [
  {
   "cell_type": "code",
   "execution_count": 1,
   "metadata": {},
   "outputs": [],
   "source": [
    "import numpy as np\n",
    "import pandas as pd\n",
    "\n",
    "pd.options.display.max_columns = 100"
   ]
  },
  {
   "cell_type": "code",
   "execution_count": 2,
   "metadata": {},
   "outputs": [],
   "source": [
    "data = pd.read_csv('input/train.csv')"
   ]
  },
  {
   "cell_type": "code",
   "execution_count": 3,
   "metadata": {},
   "outputs": [
    {
     "data": {
      "text/plain": [
       "(10000, 20)"
      ]
     },
     "execution_count": 3,
     "metadata": {},
     "output_type": "execute_result"
    }
   ],
   "source": [
    "data.shape"
   ]
  },
  {
   "cell_type": "code",
   "execution_count": 4,
   "metadata": {},
   "outputs": [
    {
     "data": {
      "text/html": [
       "<div>\n",
       "<style scoped>\n",
       "    .dataframe tbody tr th:only-of-type {\n",
       "        vertical-align: middle;\n",
       "    }\n",
       "\n",
       "    .dataframe tbody tr th {\n",
       "        vertical-align: top;\n",
       "    }\n",
       "\n",
       "    .dataframe thead th {\n",
       "        text-align: right;\n",
       "    }\n",
       "</style>\n",
       "<table border=\"1\" class=\"dataframe\">\n",
       "  <thead>\n",
       "    <tr style=\"text-align: right;\">\n",
       "      <th></th>\n",
       "      <th>Id</th>\n",
       "      <th>DistrictId</th>\n",
       "      <th>Rooms</th>\n",
       "      <th>Square</th>\n",
       "      <th>LifeSquare</th>\n",
       "      <th>KitchenSquare</th>\n",
       "      <th>Floor</th>\n",
       "      <th>HouseFloor</th>\n",
       "      <th>HouseYear</th>\n",
       "      <th>Ecology_1</th>\n",
       "      <th>Ecology_2</th>\n",
       "      <th>Ecology_3</th>\n",
       "      <th>Social_1</th>\n",
       "      <th>Social_2</th>\n",
       "      <th>Social_3</th>\n",
       "      <th>Healthcare_1</th>\n",
       "      <th>Helthcare_2</th>\n",
       "      <th>Shops_1</th>\n",
       "      <th>Shops_2</th>\n",
       "      <th>Price</th>\n",
       "    </tr>\n",
       "  </thead>\n",
       "  <tbody>\n",
       "    <tr>\n",
       "      <th>0</th>\n",
       "      <td>14038</td>\n",
       "      <td>35</td>\n",
       "      <td>2.0</td>\n",
       "      <td>47.981561</td>\n",
       "      <td>29.442751</td>\n",
       "      <td>6.0</td>\n",
       "      <td>7</td>\n",
       "      <td>9.0</td>\n",
       "      <td>1969</td>\n",
       "      <td>0.089040</td>\n",
       "      <td>B</td>\n",
       "      <td>B</td>\n",
       "      <td>33</td>\n",
       "      <td>7976</td>\n",
       "      <td>5</td>\n",
       "      <td>NaN</td>\n",
       "      <td>0</td>\n",
       "      <td>11</td>\n",
       "      <td>B</td>\n",
       "      <td>184966.930730</td>\n",
       "    </tr>\n",
       "    <tr>\n",
       "      <th>1</th>\n",
       "      <td>15053</td>\n",
       "      <td>41</td>\n",
       "      <td>3.0</td>\n",
       "      <td>65.683640</td>\n",
       "      <td>40.049543</td>\n",
       "      <td>8.0</td>\n",
       "      <td>7</td>\n",
       "      <td>9.0</td>\n",
       "      <td>1978</td>\n",
       "      <td>0.000070</td>\n",
       "      <td>B</td>\n",
       "      <td>B</td>\n",
       "      <td>46</td>\n",
       "      <td>10309</td>\n",
       "      <td>1</td>\n",
       "      <td>240.0</td>\n",
       "      <td>1</td>\n",
       "      <td>16</td>\n",
       "      <td>B</td>\n",
       "      <td>300009.450063</td>\n",
       "    </tr>\n",
       "    <tr>\n",
       "      <th>2</th>\n",
       "      <td>4765</td>\n",
       "      <td>53</td>\n",
       "      <td>2.0</td>\n",
       "      <td>44.947953</td>\n",
       "      <td>29.197612</td>\n",
       "      <td>0.0</td>\n",
       "      <td>8</td>\n",
       "      <td>12.0</td>\n",
       "      <td>1968</td>\n",
       "      <td>0.049637</td>\n",
       "      <td>B</td>\n",
       "      <td>B</td>\n",
       "      <td>34</td>\n",
       "      <td>7759</td>\n",
       "      <td>0</td>\n",
       "      <td>229.0</td>\n",
       "      <td>1</td>\n",
       "      <td>3</td>\n",
       "      <td>B</td>\n",
       "      <td>220925.908524</td>\n",
       "    </tr>\n",
       "    <tr>\n",
       "      <th>3</th>\n",
       "      <td>5809</td>\n",
       "      <td>58</td>\n",
       "      <td>2.0</td>\n",
       "      <td>53.352981</td>\n",
       "      <td>52.731512</td>\n",
       "      <td>9.0</td>\n",
       "      <td>8</td>\n",
       "      <td>17.0</td>\n",
       "      <td>1977</td>\n",
       "      <td>0.437885</td>\n",
       "      <td>B</td>\n",
       "      <td>B</td>\n",
       "      <td>23</td>\n",
       "      <td>5735</td>\n",
       "      <td>3</td>\n",
       "      <td>1084.0</td>\n",
       "      <td>0</td>\n",
       "      <td>5</td>\n",
       "      <td>B</td>\n",
       "      <td>175616.227217</td>\n",
       "    </tr>\n",
       "    <tr>\n",
       "      <th>4</th>\n",
       "      <td>10783</td>\n",
       "      <td>99</td>\n",
       "      <td>1.0</td>\n",
       "      <td>39.649192</td>\n",
       "      <td>23.776169</td>\n",
       "      <td>7.0</td>\n",
       "      <td>11</td>\n",
       "      <td>12.0</td>\n",
       "      <td>1976</td>\n",
       "      <td>0.012339</td>\n",
       "      <td>B</td>\n",
       "      <td>B</td>\n",
       "      <td>35</td>\n",
       "      <td>5776</td>\n",
       "      <td>1</td>\n",
       "      <td>2078.0</td>\n",
       "      <td>2</td>\n",
       "      <td>4</td>\n",
       "      <td>B</td>\n",
       "      <td>150226.531644</td>\n",
       "    </tr>\n",
       "  </tbody>\n",
       "</table>\n",
       "</div>"
      ],
      "text/plain": [
       "      Id  DistrictId  Rooms     Square  LifeSquare  KitchenSquare  Floor  \\\n",
       "0  14038          35    2.0  47.981561   29.442751            6.0      7   \n",
       "1  15053          41    3.0  65.683640   40.049543            8.0      7   \n",
       "2   4765          53    2.0  44.947953   29.197612            0.0      8   \n",
       "3   5809          58    2.0  53.352981   52.731512            9.0      8   \n",
       "4  10783          99    1.0  39.649192   23.776169            7.0     11   \n",
       "\n",
       "   HouseFloor  HouseYear  Ecology_1 Ecology_2 Ecology_3  Social_1  Social_2  \\\n",
       "0         9.0       1969   0.089040         B         B        33      7976   \n",
       "1         9.0       1978   0.000070         B         B        46     10309   \n",
       "2        12.0       1968   0.049637         B         B        34      7759   \n",
       "3        17.0       1977   0.437885         B         B        23      5735   \n",
       "4        12.0       1976   0.012339         B         B        35      5776   \n",
       "\n",
       "   Social_3  Healthcare_1  Helthcare_2  Shops_1 Shops_2          Price  \n",
       "0         5           NaN            0       11       B  184966.930730  \n",
       "1         1         240.0            1       16       B  300009.450063  \n",
       "2         0         229.0            1        3       B  220925.908524  \n",
       "3         3        1084.0            0        5       B  175616.227217  \n",
       "4         1        2078.0            2        4       B  150226.531644  "
      ]
     },
     "execution_count": 4,
     "metadata": {},
     "output_type": "execute_result"
    }
   ],
   "source": [
    "data.head()"
   ]
  },
  {
   "cell_type": "markdown",
   "metadata": {},
   "source": [
    "### train_test_split"
   ]
  },
  {
   "cell_type": "code",
   "execution_count": 5,
   "metadata": {},
   "outputs": [],
   "source": [
    "from sklearn.model_selection import train_test_split"
   ]
  },
  {
   "cell_type": "code",
   "execution_count": 6,
   "metadata": {},
   "outputs": [],
   "source": [
    "train, valid = train_test_split(data, test_size=0.3, random_state=42)"
   ]
  },
  {
   "cell_type": "code",
   "execution_count": 7,
   "metadata": {},
   "outputs": [
    {
     "data": {
      "text/plain": [
       "((7000, 20), (3000, 20))"
      ]
     },
     "execution_count": 7,
     "metadata": {},
     "output_type": "execute_result"
    }
   ],
   "source": [
    "train.shape, valid.shape"
   ]
  },
  {
   "cell_type": "markdown",
   "metadata": {},
   "source": [
    "### Prepare train, valid"
   ]
  },
  {
   "cell_type": "code",
   "execution_count": null,
   "metadata": {},
   "outputs": [],
   "source": []
  },
  {
   "cell_type": "code",
   "execution_count": 8,
   "metadata": {},
   "outputs": [],
   "source": [
    "def add_info1(df, df_source, feat):\n",
    "    flat_qty = 'flat_qty_'+feat\n",
    "    distr_info1 = df_source[feat].value_counts(normalize=True).reset_index().\\\n",
    "        rename(columns={'index':feat, feat:flat_qty})\n",
    "    \n",
    "    df = pd.merge(df, distr_info1, on=feat, how='left')\n",
    "    df[flat_qty] = df[flat_qty].fillna(df[flat_qty].min())\n",
    "    return df"
   ]
  },
  {
   "cell_type": "code",
   "execution_count": null,
   "metadata": {},
   "outputs": [],
   "source": []
  },
  {
   "cell_type": "code",
   "execution_count": 9,
   "metadata": {},
   "outputs": [],
   "source": [
    "distr_stat_dr = train.groupby(['DistrictId', 'Rooms'], as_index=False)[['Price']].mean().\\\n",
    "    rename(columns={'Price':'mean_price_dr'})\n",
    "    \n",
    "distr_stat_r = train.groupby(['Rooms'], as_index=False)[['Price']].mean().rename(columns={'Price':'mean_price_r'})\n",
    "\n",
    "mean_price = train['Price'].mean()"
   ]
  },
  {
   "cell_type": "code",
   "execution_count": 10,
   "metadata": {},
   "outputs": [],
   "source": [
    "def add_stats(df, distr_stat_dr, distr_stat_r, mean_price):\n",
    "    df = pd.merge(df, distr_stat_dr, on=['DistrictId', 'Rooms'], how='left')\n",
    "    df = pd.merge(df, distr_stat_r, on='Rooms', how='left')\n",
    "    \n",
    "    df['mean_price_r'] = df['mean_price_r'].fillna(mean_price)\n",
    "    df['mean_price_dr'] = df['mean_price_dr'].fillna(df['mean_price_r'])\n",
    "    return df"
   ]
  },
  {
   "cell_type": "code",
   "execution_count": 11,
   "metadata": {},
   "outputs": [],
   "source": [
    "def add_cat_fts(df, cat_fts=('Ecology_2', 'Ecology_3', 'Shops_2')):\n",
    "    for col in cat_fts:\n",
    "        df[col] = (df[col] == 'B').astype(int)\n",
    "    return df"
   ]
  },
  {
   "cell_type": "code",
   "execution_count": 12,
   "metadata": {},
   "outputs": [],
   "source": [
    "def fillna_healthcare_1(df):\n",
    "    df['Healthcare_1'] = df['Healthcare_1'].fillna(0)\n",
    "    return df"
   ]
  },
  {
   "cell_type": "code",
   "execution_count": 13,
   "metadata": {},
   "outputs": [],
   "source": [
    "def prepare_data(df, df_source, distr_stat_dr, distr_stat_r, mean_price):\n",
    "    df = add_info1(df, df_source, 'DistrictId')\n",
    "    df = add_stats(df, distr_stat_dr, distr_stat_r, mean_price)\n",
    "    df = add_cat_fts(df)\n",
    "    df = fillna_healthcare_1(df)\n",
    "    return df"
   ]
  },
  {
   "cell_type": "code",
   "execution_count": 14,
   "metadata": {},
   "outputs": [],
   "source": [
    "train = prepare_data(train, train, distr_stat_dr, distr_stat_r, mean_price)"
   ]
  },
  {
   "cell_type": "code",
   "execution_count": 15,
   "metadata": {},
   "outputs": [
    {
     "data": {
      "text/html": [
       "<div>\n",
       "<style scoped>\n",
       "    .dataframe tbody tr th:only-of-type {\n",
       "        vertical-align: middle;\n",
       "    }\n",
       "\n",
       "    .dataframe tbody tr th {\n",
       "        vertical-align: top;\n",
       "    }\n",
       "\n",
       "    .dataframe thead th {\n",
       "        text-align: right;\n",
       "    }\n",
       "</style>\n",
       "<table border=\"1\" class=\"dataframe\">\n",
       "  <thead>\n",
       "    <tr style=\"text-align: right;\">\n",
       "      <th></th>\n",
       "      <th>Id</th>\n",
       "      <th>DistrictId</th>\n",
       "      <th>Rooms</th>\n",
       "      <th>Square</th>\n",
       "      <th>LifeSquare</th>\n",
       "      <th>KitchenSquare</th>\n",
       "      <th>Floor</th>\n",
       "      <th>HouseFloor</th>\n",
       "      <th>HouseYear</th>\n",
       "      <th>Ecology_1</th>\n",
       "      <th>Ecology_2</th>\n",
       "      <th>Ecology_3</th>\n",
       "      <th>Social_1</th>\n",
       "      <th>Social_2</th>\n",
       "      <th>Social_3</th>\n",
       "      <th>Healthcare_1</th>\n",
       "      <th>Helthcare_2</th>\n",
       "      <th>Shops_1</th>\n",
       "      <th>Shops_2</th>\n",
       "      <th>Price</th>\n",
       "      <th>flat_qty_DistrictId</th>\n",
       "      <th>mean_price_dr</th>\n",
       "      <th>mean_price_r</th>\n",
       "    </tr>\n",
       "  </thead>\n",
       "  <tbody>\n",
       "    <tr>\n",
       "      <th>0</th>\n",
       "      <td>14604</td>\n",
       "      <td>23</td>\n",
       "      <td>1.0</td>\n",
       "      <td>41.681380</td>\n",
       "      <td>22.796166</td>\n",
       "      <td>8.0</td>\n",
       "      <td>14</td>\n",
       "      <td>17.0</td>\n",
       "      <td>2015</td>\n",
       "      <td>0.075779</td>\n",
       "      <td>1</td>\n",
       "      <td>1</td>\n",
       "      <td>6</td>\n",
       "      <td>1437</td>\n",
       "      <td>3</td>\n",
       "      <td>0.0</td>\n",
       "      <td>0</td>\n",
       "      <td>2</td>\n",
       "      <td>1</td>\n",
       "      <td>88504.384965</td>\n",
       "      <td>0.056286</td>\n",
       "      <td>102427.030975</td>\n",
       "      <td>160134.810901</td>\n",
       "    </tr>\n",
       "    <tr>\n",
       "      <th>1</th>\n",
       "      <td>5621</td>\n",
       "      <td>23</td>\n",
       "      <td>3.0</td>\n",
       "      <td>163.495333</td>\n",
       "      <td>161.504222</td>\n",
       "      <td>12.0</td>\n",
       "      <td>5</td>\n",
       "      <td>3.0</td>\n",
       "      <td>1977</td>\n",
       "      <td>0.014073</td>\n",
       "      <td>1</td>\n",
       "      <td>1</td>\n",
       "      <td>2</td>\n",
       "      <td>475</td>\n",
       "      <td>0</td>\n",
       "      <td>0.0</td>\n",
       "      <td>0</td>\n",
       "      <td>0</td>\n",
       "      <td>1</td>\n",
       "      <td>207007.956663</td>\n",
       "      <td>0.056286</td>\n",
       "      <td>165911.129700</td>\n",
       "      <td>290867.452543</td>\n",
       "    </tr>\n",
       "    <tr>\n",
       "      <th>2</th>\n",
       "      <td>235</td>\n",
       "      <td>87</td>\n",
       "      <td>1.0</td>\n",
       "      <td>39.710131</td>\n",
       "      <td>19.538663</td>\n",
       "      <td>8.0</td>\n",
       "      <td>4</td>\n",
       "      <td>17.0</td>\n",
       "      <td>1986</td>\n",
       "      <td>0.100456</td>\n",
       "      <td>1</td>\n",
       "      <td>1</td>\n",
       "      <td>43</td>\n",
       "      <td>7227</td>\n",
       "      <td>0</td>\n",
       "      <td>0.0</td>\n",
       "      <td>1</td>\n",
       "      <td>6</td>\n",
       "      <td>0</td>\n",
       "      <td>182126.280899</td>\n",
       "      <td>0.003000</td>\n",
       "      <td>169596.630515</td>\n",
       "      <td>160134.810901</td>\n",
       "    </tr>\n",
       "    <tr>\n",
       "      <th>3</th>\n",
       "      <td>16258</td>\n",
       "      <td>48</td>\n",
       "      <td>3.0</td>\n",
       "      <td>96.056784</td>\n",
       "      <td>98.152802</td>\n",
       "      <td>1.0</td>\n",
       "      <td>15</td>\n",
       "      <td>1.0</td>\n",
       "      <td>2017</td>\n",
       "      <td>0.041125</td>\n",
       "      <td>1</td>\n",
       "      <td>1</td>\n",
       "      <td>46</td>\n",
       "      <td>9515</td>\n",
       "      <td>5</td>\n",
       "      <td>0.0</td>\n",
       "      <td>1</td>\n",
       "      <td>10</td>\n",
       "      <td>1</td>\n",
       "      <td>524365.550705</td>\n",
       "      <td>0.008857</td>\n",
       "      <td>382424.639356</td>\n",
       "      <td>290867.452543</td>\n",
       "    </tr>\n",
       "    <tr>\n",
       "      <th>4</th>\n",
       "      <td>10773</td>\n",
       "      <td>77</td>\n",
       "      <td>3.0</td>\n",
       "      <td>79.195825</td>\n",
       "      <td>44.421062</td>\n",
       "      <td>10.0</td>\n",
       "      <td>16</td>\n",
       "      <td>17.0</td>\n",
       "      <td>1984</td>\n",
       "      <td>0.298205</td>\n",
       "      <td>1</td>\n",
       "      <td>1</td>\n",
       "      <td>16</td>\n",
       "      <td>4048</td>\n",
       "      <td>3</td>\n",
       "      <td>0.0</td>\n",
       "      <td>1</td>\n",
       "      <td>3</td>\n",
       "      <td>1</td>\n",
       "      <td>322048.433990</td>\n",
       "      <td>0.004000</td>\n",
       "      <td>251751.766701</td>\n",
       "      <td>290867.452543</td>\n",
       "    </tr>\n",
       "  </tbody>\n",
       "</table>\n",
       "</div>"
      ],
      "text/plain": [
       "      Id  DistrictId  Rooms      Square  LifeSquare  KitchenSquare  Floor  \\\n",
       "0  14604          23    1.0   41.681380   22.796166            8.0     14   \n",
       "1   5621          23    3.0  163.495333  161.504222           12.0      5   \n",
       "2    235          87    1.0   39.710131   19.538663            8.0      4   \n",
       "3  16258          48    3.0   96.056784   98.152802            1.0     15   \n",
       "4  10773          77    3.0   79.195825   44.421062           10.0     16   \n",
       "\n",
       "   HouseFloor  HouseYear  Ecology_1  Ecology_2  Ecology_3  Social_1  Social_2  \\\n",
       "0        17.0       2015   0.075779          1          1         6      1437   \n",
       "1         3.0       1977   0.014073          1          1         2       475   \n",
       "2        17.0       1986   0.100456          1          1        43      7227   \n",
       "3         1.0       2017   0.041125          1          1        46      9515   \n",
       "4        17.0       1984   0.298205          1          1        16      4048   \n",
       "\n",
       "   Social_3  Healthcare_1  Helthcare_2  Shops_1  Shops_2          Price  \\\n",
       "0         3           0.0            0        2        1   88504.384965   \n",
       "1         0           0.0            0        0        1  207007.956663   \n",
       "2         0           0.0            1        6        0  182126.280899   \n",
       "3         5           0.0            1       10        1  524365.550705   \n",
       "4         3           0.0            1        3        1  322048.433990   \n",
       "\n",
       "   flat_qty_DistrictId  mean_price_dr   mean_price_r  \n",
       "0             0.056286  102427.030975  160134.810901  \n",
       "1             0.056286  165911.129700  290867.452543  \n",
       "2             0.003000  169596.630515  160134.810901  \n",
       "3             0.008857  382424.639356  290867.452543  \n",
       "4             0.004000  251751.766701  290867.452543  "
      ]
     },
     "execution_count": 15,
     "metadata": {},
     "output_type": "execute_result"
    }
   ],
   "source": [
    "train.head()"
   ]
  },
  {
   "cell_type": "code",
   "execution_count": 16,
   "metadata": {},
   "outputs": [
    {
     "name": "stdout",
     "output_type": "stream",
     "text": [
      "<class 'pandas.core.frame.DataFrame'>\n",
      "Int64Index: 7000 entries, 0 to 6999\n",
      "Data columns (total 23 columns):\n",
      "Id                     7000 non-null int64\n",
      "DistrictId             7000 non-null int64\n",
      "Rooms                  7000 non-null float64\n",
      "Square                 7000 non-null float64\n",
      "LifeSquare             5514 non-null float64\n",
      "KitchenSquare          7000 non-null float64\n",
      "Floor                  7000 non-null int64\n",
      "HouseFloor             7000 non-null float64\n",
      "HouseYear              7000 non-null int64\n",
      "Ecology_1              7000 non-null float64\n",
      "Ecology_2              7000 non-null int32\n",
      "Ecology_3              7000 non-null int32\n",
      "Social_1               7000 non-null int64\n",
      "Social_2               7000 non-null int64\n",
      "Social_3               7000 non-null int64\n",
      "Healthcare_1           7000 non-null float64\n",
      "Helthcare_2            7000 non-null int64\n",
      "Shops_1                7000 non-null int64\n",
      "Shops_2                7000 non-null int32\n",
      "Price                  7000 non-null float64\n",
      "flat_qty_DistrictId    7000 non-null float64\n",
      "mean_price_dr          7000 non-null float64\n",
      "mean_price_r           7000 non-null float64\n",
      "dtypes: float64(11), int32(3), int64(9)\n",
      "memory usage: 1.2 MB\n"
     ]
    }
   ],
   "source": [
    "train.info()"
   ]
  },
  {
   "cell_type": "code",
   "execution_count": 17,
   "metadata": {},
   "outputs": [],
   "source": [
    "valid = prepare_data(valid, train, distr_stat_dr, distr_stat_r, mean_price)"
   ]
  },
  {
   "cell_type": "markdown",
   "metadata": {},
   "source": [
    "### Model"
   ]
  },
  {
   "cell_type": "code",
   "execution_count": 18,
   "metadata": {},
   "outputs": [
    {
     "data": {
      "text/plain": [
       "Index(['Id', 'DistrictId', 'Rooms', 'Square', 'LifeSquare', 'KitchenSquare',\n",
       "       'Floor', 'HouseFloor', 'HouseYear', 'Ecology_1', 'Ecology_2',\n",
       "       'Ecology_3', 'Social_1', 'Social_2', 'Social_3', 'Healthcare_1',\n",
       "       'Helthcare_2', 'Shops_1', 'Shops_2', 'Price', 'flat_qty_DistrictId',\n",
       "       'mean_price_dr', 'mean_price_r'],\n",
       "      dtype='object')"
      ]
     },
     "execution_count": 18,
     "metadata": {},
     "output_type": "execute_result"
    }
   ],
   "source": [
    "train.columns"
   ]
  },
  {
   "cell_type": "code",
   "execution_count": null,
   "metadata": {},
   "outputs": [],
   "source": [
    "feats = ['Rooms', 'Square', 'flat_qty_DistrictId', 'mean_price_dr', 'Helthcare_2', 'Healthcare_1', 'HouseYear']\n",
    "#feats = ['Id', 'Square', 'Floor', 'HouseFloor', 'Ecology_3', 'Social_1', 'Social_2', 'Healthcare_1', 'Shops_1', 'Price']"
   ]
  },
  {
   "cell_type": "code",
   "execution_count": null,
   "metadata": {},
   "outputs": [],
   "source": [
    "# ['Id',\n",
    "#  'DistrictId',\n",
    "#  'Rooms',\n",
    "#  'Square',\n",
    "#  'LifeSquare',\n",
    "#  'KitchenSquare',\n",
    "#  'Floor',\n",
    "#  'HouseFloor',\n",
    "#  'HouseYear',\n",
    "#  'Ecology_1',\n",
    "#  'Ecology_2',\n",
    "#  'Ecology_3',\n",
    "#  'Social_1',\n",
    "#  'Social_2',\n",
    "#  'Social_3',\n",
    "#  'Healthcare_1',\n",
    "#  'Helthcare_2',\n",
    "#  'Shops_1',\n",
    "#  'Shops_2',\n",
    "#  'Price',\n",
    "#  'flat_qty_distr',\n",
    "# 'mean_price_dr',\n",
    "#  'mean_price_r'],\n",
    "# [0, 1, 1, 1, 0, 0, 1, 1, 0, 0, 1, 0, 0, 1, 0, 1, 1, 0, 0, 1, 1]\n",
    "# feats = []"
   ]
  },
  {
   "cell_type": "code",
   "execution_count": null,
   "metadata": {},
   "outputs": [],
   "source": [
    "from sklearn.ensemble import RandomForestRegressor as RF"
   ]
  },
  {
   "cell_type": "code",
   "execution_count": null,
   "metadata": {},
   "outputs": [],
   "source": [
    "# ?RF"
   ]
  },
  {
   "cell_type": "code",
   "execution_count": null,
   "metadata": {},
   "outputs": [],
   "source": [
    "model = RF(n_estimators=300, max_depth=12, random_state=42, max_features=4, min_samples_leaf=2)"
   ]
  },
  {
   "cell_type": "code",
   "execution_count": null,
   "metadata": {},
   "outputs": [
    {
     "name": "stdout",
     "output_type": "stream",
     "text": [
      "<class 'pandas.core.frame.DataFrame'>\n",
      "Int64Index: 7000 entries, 0 to 6999\n",
      "Data columns (total 23 columns):\n",
      "Id                     7000 non-null int64\n",
      "DistrictId             7000 non-null int64\n",
      "Rooms                  7000 non-null float64\n",
      "Square                 7000 non-null float64\n",
      "LifeSquare             5514 non-null float64\n",
      "KitchenSquare          7000 non-null float64\n",
      "Floor                  7000 non-null int64\n",
      "HouseFloor             7000 non-null float64\n",
      "HouseYear              7000 non-null int64\n",
      "Ecology_1              7000 non-null float64\n",
      "Ecology_2              7000 non-null int32\n",
      "Ecology_3              7000 non-null int32\n",
      "Social_1               7000 non-null int64\n",
      "Social_2               7000 non-null int64\n",
      "Social_3               7000 non-null int64\n",
      "Healthcare_1           7000 non-null float64\n",
      "Helthcare_2            7000 non-null int64\n",
      "Shops_1                7000 non-null int64\n",
      "Shops_2                7000 non-null int32\n",
      "Price                  7000 non-null float64\n",
      "flat_qty_DistrictId    7000 non-null float64\n",
      "mean_price_dr          7000 non-null float64\n",
      "mean_price_r           7000 non-null float64\n",
      "dtypes: float64(11), int32(3), int64(9)\n",
      "memory usage: 1.2 MB\n"
     ]
    }
   ],
   "source": [
    "train.info()"
   ]
  },
  {
   "cell_type": "code",
   "execution_count": null,
   "metadata": {},
   "outputs": [
    {
     "data": {
      "text/plain": [
       "RandomForestRegressor(bootstrap=True, criterion='mse', max_depth=12,\n",
       "           max_features=4, max_leaf_nodes=None, min_impurity_decrease=0.0,\n",
       "           min_impurity_split=None, min_samples_leaf=2,\n",
       "           min_samples_split=2, min_weight_fraction_leaf=0.0,\n",
       "           n_estimators=300, n_jobs=None, oob_score=False, random_state=42,\n",
       "           verbose=0, warm_start=False)"
      ]
     },
     "execution_count": 25,
     "metadata": {},
     "output_type": "execute_result"
    }
   ],
   "source": [
    "model.fit(train.loc[:, feats], train['Price'])"
   ]
  },
  {
   "cell_type": "code",
   "execution_count": null,
   "metadata": {},
   "outputs": [],
   "source": [
    "pred_train = model.predict(train.loc[:, feats])"
   ]
  },
  {
   "cell_type": "code",
   "execution_count": null,
   "metadata": {},
   "outputs": [
    {
     "data": {
      "text/plain": [
       "(7000,)"
      ]
     },
     "execution_count": 27,
     "metadata": {},
     "output_type": "execute_result"
    }
   ],
   "source": [
    "pred_train.shape"
   ]
  },
  {
   "cell_type": "code",
   "execution_count": null,
   "metadata": {},
   "outputs": [
    {
     "data": {
      "text/plain": [
       "array([ 93557.50779231, 193197.38917049, 175801.54000418, ...,\n",
       "       240602.56681924, 204675.32818292, 399193.50580112])"
      ]
     },
     "execution_count": 28,
     "metadata": {},
     "output_type": "execute_result"
    }
   ],
   "source": [
    "pred_train"
   ]
  },
  {
   "cell_type": "code",
   "execution_count": null,
   "metadata": {},
   "outputs": [],
   "source": [
    "pred_valid = model.predict(valid.loc[:, feats])"
   ]
  },
  {
   "cell_type": "code",
   "execution_count": null,
   "metadata": {},
   "outputs": [
    {
     "data": {
      "text/plain": [
       "(3000,)"
      ]
     },
     "execution_count": 30,
     "metadata": {},
     "output_type": "execute_result"
    }
   ],
   "source": [
    "pred_valid.shape"
   ]
  },
  {
   "cell_type": "code",
   "execution_count": null,
   "metadata": {},
   "outputs": [
    {
     "data": {
      "text/plain": [
       "array([188078.2573157 , 337788.61879459, 217087.7267442 , ...,\n",
       "       274195.46828096, 112673.01281904, 260862.25254602])"
      ]
     },
     "execution_count": 31,
     "metadata": {},
     "output_type": "execute_result"
    }
   ],
   "source": [
    "pred_valid"
   ]
  },
  {
   "cell_type": "markdown",
   "metadata": {},
   "source": [
    "### Evaluate model"
   ]
  },
  {
   "cell_type": "code",
   "execution_count": null,
   "metadata": {},
   "outputs": [],
   "source": [
    "from sklearn.metrics import r2_score as r2"
   ]
  },
  {
   "cell_type": "code",
   "execution_count": null,
   "metadata": {},
   "outputs": [
    {
     "data": {
      "text/plain": [
       "0.8978579318090508"
      ]
     },
     "execution_count": 33,
     "metadata": {},
     "output_type": "execute_result"
    }
   ],
   "source": [
    "r2(train['Price'], pred_train)"
   ]
  },
  {
   "cell_type": "code",
   "execution_count": null,
   "metadata": {},
   "outputs": [
    {
     "data": {
      "text/plain": [
       "0.683087842651711"
      ]
     },
     "execution_count": 34,
     "metadata": {},
     "output_type": "execute_result"
    }
   ],
   "source": [
    "r2(valid['Price'], pred_valid)"
   ]
  },
  {
   "cell_type": "markdown",
   "metadata": {},
   "source": [
    "### Test"
   ]
  },
  {
   "cell_type": "code",
   "execution_count": null,
   "metadata": {},
   "outputs": [],
   "source": [
    "# ?prepare_data"
   ]
  },
  {
   "cell_type": "code",
   "execution_count": null,
   "metadata": {},
   "outputs": [],
   "source": [
    "test = pd.read_csv('input/test.csv')"
   ]
  },
  {
   "cell_type": "code",
   "execution_count": null,
   "metadata": {},
   "outputs": [],
   "source": [
    "test = prepare_data(test, train, distr_stat_dr, distr_stat_r, mean_price)"
   ]
  },
  {
   "cell_type": "code",
   "execution_count": null,
   "metadata": {},
   "outputs": [],
   "source": [
    "test['Price'] = model.predict(test.loc[:, feats])"
   ]
  },
  {
   "cell_type": "code",
   "execution_count": null,
   "metadata": {},
   "outputs": [],
   "source": [
    "test.loc[:, ['Id', 'Price']].to_csv('AAnonymous_predictions.csv', index=None)"
   ]
  },
  {
   "cell_type": "code",
   "execution_count": null,
   "metadata": {},
   "outputs": [],
   "source": []
  },
  {
   "cell_type": "code",
   "execution_count": null,
   "metadata": {},
   "outputs": [],
   "source": []
  },
  {
   "cell_type": "code",
   "execution_count": null,
   "metadata": {},
   "outputs": [],
   "source": []
  },
  {
   "cell_type": "code",
   "execution_count": null,
   "metadata": {},
   "outputs": [],
   "source": [
    "import random"
   ]
  },
  {
   "cell_type": "code",
   "execution_count": null,
   "metadata": {},
   "outputs": [],
   "source": [
    "columns = list(train.columns)\n",
    "columns.remove('Id')\n",
    "columns.remove('LifeSquare')\n",
    "columns.remove('Price')"
   ]
  },
  {
   "cell_type": "code",
   "execution_count": null,
   "metadata": {},
   "outputs": [],
   "source": [
    "from itertools import compress\n",
    "\n",
    "def filt(feat_genes):\n",
    "    return list(compress(columns, feat_genes))"
   ]
  },
  {
   "cell_type": "code",
   "execution_count": null,
   "metadata": {},
   "outputs": [
    {
     "data": {
      "text/plain": [
       "23"
      ]
     },
     "execution_count": 43,
     "metadata": {},
     "output_type": "execute_result"
    }
   ],
   "source": [
    "len(train.columns)"
   ]
  },
  {
   "cell_type": "code",
   "execution_count": null,
   "metadata": {},
   "outputs": [
    {
     "data": {
      "text/plain": [
       "[False,\n",
       " True,\n",
       " True,\n",
       " False,\n",
       " False,\n",
       " True,\n",
       " True,\n",
       " False,\n",
       " False,\n",
       " False,\n",
       " True,\n",
       " False,\n",
       " False,\n",
       " True,\n",
       " False,\n",
       " True,\n",
       " True,\n",
       " False,\n",
       " False,\n",
       " False]"
      ]
     },
     "execution_count": 44,
     "metadata": {},
     "output_type": "execute_result"
    }
   ],
   "source": [
    "feat_genes = [random.choice([True, False]) for _ in range(len(columns))]\n",
    "feat_genes"
   ]
  },
  {
   "cell_type": "code",
   "execution_count": null,
   "metadata": {},
   "outputs": [],
   "source": []
  },
  {
   "cell_type": "code",
   "execution_count": null,
   "metadata": {},
   "outputs": [],
   "source": []
  },
  {
   "cell_type": "code",
   "execution_count": null,
   "metadata": {},
   "outputs": [],
   "source": []
  },
  {
   "cell_type": "code",
   "execution_count": null,
   "metadata": {},
   "outputs": [],
   "source": []
  },
  {
   "cell_type": "code",
   "execution_count": null,
   "metadata": {},
   "outputs": [],
   "source": []
  },
  {
   "cell_type": "code",
   "execution_count": null,
   "metadata": {},
   "outputs": [
    {
     "name": "stdout",
     "output_type": "stream",
     "text": [
      "1 2 3 4 5 6 7 8 9 10 11 12 13 14 15 16 17 18 19 20 21 22 23 24 25 26 27 28 29 30 31 32 33 34 35 36 37 38 39 40 41 42 43 44 45 46 47 48 49 50 51 52 53 54 55 56 57 58 59 60 61 62 63 64 65 66 67 68 69 70 71 72 73 74 75 76 77 78 79 80 81 82 83 84 85 86 87 88 89 90 91 92 93 94 95 96 97 98 99 100 101 102 103 104 "
     ]
    }
   ],
   "source": [
    "import random\n",
    "from concurrent.futures import ProcessPoolExecutor\n",
    "\n",
    "class Chromosome:\n",
    "    def __init__(self, generate=False):\n",
    "        if generate:\n",
    "            self._generate()\n",
    "        self.fitness = 0\n",
    "        self.done = False\n",
    "        self.just_done = False\n",
    "        self.mutated = False\n",
    "        \n",
    "    @property\n",
    "    def feats_genes(self):\n",
    "        return self.genes[:len(columns)]\n",
    "\n",
    "    @property\n",
    "    def other_genes(self):\n",
    "        return self.genes[len(columns):]\n",
    "\n",
    "    def _generate(self):\n",
    "        self.genes = [random.choice([True, False]) for _ in range(len(columns))]\n",
    "#         n_estimators = 30\n",
    "#         max_depth = 12\n",
    "#         max_features = 4\n",
    "#         min_samples_leaf = 2\n",
    "\n",
    "        n_estimators = 100\n",
    "#         max_depth = random.randint(8, 18)\n",
    "#         max_features = random.randint(3, len(columns))\n",
    "#         min_samples_leaf = random.randint(1, 5)\n",
    "        \n",
    "        \n",
    "        \n",
    "        \n",
    "        max_depth = random.randint(8, 18)\n",
    "        min_samples_split = random.randint(1, 10)\n",
    "        min_samples_leaf = random.randint(1, 10)\n",
    "        min_weight_fraction_leaf = random.uniform(0, 1)\n",
    "        max_features = random.choice([None, 'sqrt', 'log2', random.randint(3, len(columns))])\n",
    "        max_leaf_nodes = random.randint(1, 10)\n",
    "        min_impurity_decrease = random.uniform(0, 5)\n",
    "        \n",
    "        self.genes.append(n_estimators)\n",
    "        self.genes.append(max_depth)\n",
    "        self.genes.append(min_samples_split)\n",
    "        self.genes.append(min_samples_leaf)\n",
    "        self.genes.append(min_weight_fraction_leaf)\n",
    "        self.genes.append(max_features)\n",
    "        self.genes.append(max_leaf_nodes)\n",
    "        self.genes.append(min_impurity_decrease)\n",
    "\n",
    "    def set_fitness(self):\n",
    "        if self.done:\n",
    "            self.just_done = False\n",
    "        else:\n",
    "            feats_genes = filt(self.genes)\n",
    "            #feats_gens = ['Rooms', 'Square', 'flat_qty_distr', 'mean_price_dr', 'Helthcare_2', 'Healthcare_1', 'HouseYear']\n",
    "            #print(feats_gens)\n",
    "            try:\n",
    "                rf = RF(n_estimators=self.other_genes[0],\n",
    "#                         max_depth=self.other_genes[1],\n",
    "#                         max_features=self.other_genes[2],\n",
    "#                         min_samples_leaf=self.other_genes[3],\n",
    "                        \n",
    "                        max_depth = self.other_genes[1],\n",
    "                     #   min_samples_split = self.other_genes[2],\n",
    "                        min_samples_leaf = self.other_genes[3],\n",
    "                     #   min_weight_fraction_leaf = self.other_genes[4],\n",
    "                        max_features = self.other_genes[5],\n",
    "                      #  max_leaf_nodes = self.other_genes[6],\n",
    "                      #  min_impurity_decrease = self.other_genes[7],\n",
    "                        \n",
    "                        random_state=42,\n",
    "                        n_jobs=-1)\n",
    "                \n",
    "                rf.fit(train.loc[:, feats_genes], train['Price'])\n",
    "                pred_valid = rf.predict(valid.loc[:, feats_genes])\n",
    "                self.fitness = r2(valid['Price'], pred_valid)\n",
    "            except:\n",
    "                self.fitness = 0\n",
    "            self.done = self.just_done = True\n",
    "\n",
    "    @property\n",
    "    def feats_genes_str(self):\n",
    "        return [int(b) for b in self.feats_genes].__str__()\n",
    "\n",
    "    @property\n",
    "    def other_genes_str(self):\n",
    "        return ['{0:0.2f}'.format(i) if type(i) is float else i for i in self.other_genes]\n",
    "    \n",
    "    def __str__(self):\n",
    "        just_done = '*' if self.just_done else ' '\n",
    "        mutated = 'm' if self.mutated else ' '\n",
    "        return f'{100*self.fitness:6.2f}% {self.feats_genes_str} {self.other_genes_str} {just_done} {mutated}'\n",
    "\n",
    "\n",
    "def cross(chro1, chro2):\n",
    "    genes_len = len(chro1.genes)\n",
    "    r1 = random.randint(0, genes_len - 1)\n",
    "    r2 = random.randint(r1 + 1, genes_len)\n",
    "\n",
    "    child1 = Chromosome()\n",
    "    child2 = Chromosome()\n",
    "\n",
    "    child1.genes = chro1.genes[:r1] + chro2.genes[r1:r2] + chro1.genes[r2:]\n",
    "    child2.genes = chro2.genes[:r1] + chro1.genes[r1:r2] + chro2.genes[r2:]\n",
    "\n",
    "    return child1, child2\n",
    "\n",
    "\n",
    "def ftns(chro):\n",
    "    print('---')\n",
    "    chro.set_fitness()\n",
    "\n",
    "class Ga:\n",
    "    def __init__(self, size):\n",
    "        self.generate(size)\n",
    "\n",
    "    def generate(self, size):\n",
    "        self.generation = [Chromosome(True) for _ in range(size)]\n",
    "        self.set_fitnesses()\n",
    "        self._sort()\n",
    "        self.iteration = 1\n",
    "\n",
    "    def next(self):\n",
    "        end = len(self.generation)\n",
    "        middle = end // 2\n",
    "        gener = self.generation\n",
    "        for i in range(middle, end, 2):\n",
    "            parent1, parent2 = self._random_choice(middle)\n",
    "            gener[i], gener[i + 1] = cross(gener[parent1], gener[parent2])\n",
    "        self.set_fitnesses()\n",
    "        self._sort()\n",
    "        self.iteration += 1\n",
    "\n",
    "    def set_fitnesses(self):\n",
    "        j = 0\n",
    "        for chro in self.generation:\n",
    "            chro.set_fitness()\n",
    "            j += 1\n",
    "            print(j, end=' ')\n",
    "        print()\n",
    "        \n",
    "#         with ProcessPoolExecutor(max_workers=4) as executor:\n",
    "#             self.generation = list(executor.map(ftns, self.generation))\n",
    "            \n",
    "#         executor = ProcessPoolExecutor(max_workers=3)\n",
    "#         task1 = executor.submit(task)\n",
    "#         task2 = executor.submit(task)\n",
    "            \n",
    "    def _random_choice(self, n):\n",
    "        x = [i for i in range(n)]\n",
    "        prob = [i for i in range(n, 0, -1)]\n",
    "        sum_ = sum(prob)\n",
    "        for i in range(len(prob)):\n",
    "            prob[i] /= sum_\n",
    "        return np.random.choice(n, 2, replace=False)\n",
    "            \n",
    "            \n",
    "    def _sort(self):\n",
    "        self.generation = sorted(self.generation, key=lambda x: x.fitness, reverse=True)\n",
    "\n",
    "    def __str__(self):\n",
    "        ret = f'================== {self.iteration:3} ==================\\n'\n",
    "        output_top = 50\n",
    "        if len(self.generation) < output_top:\n",
    "            output_top = len(self.generation)\n",
    "\n",
    "        for i in range(output_top):\n",
    "            ret += f'{(i + 1): 3})'\n",
    "            ret += self.generation[i].__str__()\n",
    "            ret += '\\n'\n",
    "        return ret\n",
    "\n",
    "\n",
    "POPULATION = 100\n",
    "ga = Ga(POPULATION)\n",
    "print(ga)\n",
    "\n",
    "for i in range(1, 1000):\n",
    "    ga.next()\n",
    "    print(ga)"
   ]
  },
  {
   "cell_type": "code",
   "execution_count": null,
   "metadata": {},
   "outputs": [],
   "source": [
    "z = 0.01234\n",
    "f'{100*z:6.2}%'"
   ]
  },
  {
   "cell_type": "code",
   "execution_count": null,
   "metadata": {},
   "outputs": [],
   "source": [
    "x = [i for i in range(3)]\n",
    "prob = [i for i in range(3, 0, -1)]\n",
    "print(prob)\n",
    "sum_ = sum(prob)\n",
    "for i in range(len(prob)):\n",
    "    prob[i] /= sum_\n",
    "# np.random.choice()\n",
    "prob, sum(prob)\n",
    "print(prob)\n",
    "zz = []\n",
    "for i in range(10000):\n",
    "    zz.append(np.random.choice(x, p=prob))\n",
    "pd.Series(zz).value_counts(normalize=True)"
   ]
  },
  {
   "cell_type": "code",
   "execution_count": null,
   "metadata": {},
   "outputs": [],
   "source": [
    "# ?np.random.choice"
   ]
  },
  {
   "cell_type": "code",
   "execution_count": null,
   "metadata": {},
   "outputs": [],
   "source": [
    "#Cell[StyleData[\"Print\"], FontSize->24, FontColor->RGBColor[1, 0, 0]]\n",
    "\n",
    "type(0.1) is float"
   ]
  }
 ],
 "metadata": {
  "kernelspec": {
   "display_name": "Python 3",
   "language": "python",
   "name": "python3"
  },
  "language_info": {
   "codemirror_mode": {
    "name": "ipython",
    "version": 3
   },
   "file_extension": ".py",
   "mimetype": "text/x-python",
   "name": "python",
   "nbconvert_exporter": "python",
   "pygments_lexer": "ipython3",
   "version": "3.7.1"
  }
 },
 "nbformat": 4,
 "nbformat_minor": 2
}
